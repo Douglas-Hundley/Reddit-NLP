{
 "cells": [
  {
   "cell_type": "markdown",
   "metadata": {},
   "source": [
    "### Contents:\n",
    "- [Problem Statement](#Data-Sets)\n",
    "- [Collecting the Data](#Data-Import-and-Cleaning)\n",
    "- [Evaluating the Data Collected](#Exploratory-Data-Analysis)\n",
    "- [Visualization](#Visualize-the-Data)\n",
    "- [Conclusions and Recommendations](#Conclusions-and-Recommendations)"
   ]
  },
  {
   "cell_type": "markdown",
   "metadata": {},
   "source": [
    "### Problem Statement"
   ]
  },
  {
   "cell_type": "markdown",
   "metadata": {},
   "source": [
    "Nate Silver and co. at Fivethirtyeight have agreed to hear my pitch for a story. I have chosen to write a piece on how to create a reddit post that will generate the most user engagement from reddit users. This project explores webscraping and language patterns to help determine popular reddit posts. "
   ]
  },
  {
   "cell_type": "code",
   "execution_count": null,
   "metadata": {},
   "outputs": [],
   "source": [
    "# Imports\n",
    "from bs4 import BeautifulSoup\n",
    "import requests\n",
    "import numpy as np\n",
    "import pandas as pd\n",
    "from selenium import webdriver\n",
    "from selenium.webdriver.common.keys import Keys\n",
    "from selenium.webdriver.chrome.service import Service\n",
    "import matplotlib.pyplot as plt\n",
    "import seaborn as sns\n",
    "from selenium.webdriver.common.by import By\n",
    "from sklearn.ensemble import RandomForestClassifier\n",
    "from sklearn.model_selection import cross_val_score, KFold\n",
    "from sklearn.feature_extraction.text import CountVectorizer\n",
    "from sklearn.linear_model import LogisticRegression\n",
    "from sklearn.metrics import accuracy_score\n",
    "import os\n",
    "from os.path import exists\n",
    "from pathlib import Path\n",
    "from sklearn.pipeline import Pipeline\n",
    "from sklearn.neighbors import KNeighborsClassifier\n",
    "from sklearn.metrics import confusion_matrix, plot_confusion_matrix\n",
    "from collections import Counter"
   ]
  },
  {
   "cell_type": "markdown",
   "metadata": {},
   "source": [
    "###                                                                              Data Dictionary"
   ]
  },
  {
   "cell_type": "markdown",
   "metadata": {},
   "source": [
    "|Feature|Type|Dataset|Description|\n",
    "|---|---|---|---|\n",
    "|**subreddit**|*obj*|backup_data.csv|The title of the subreddit|\n",
    "|**title**|*obj*|backup_data.csv|Title of post|\n",
    "|**num_comments**|*int*|backup_data.csv|Total number of comments on post|\n",
    "|**upvotes**|*int*|backup_data.csv|Total number of upvotes on post|\n",
    "|**created_at**|*int*|backup_data.csv|Epoch time of post creation|\n",
    "|**high_low_count**|*int*|backup_data.csv|Binary column of upper and lower 75th percentile|\n",
    "|**title_length**|*int*|backup_data.csv|Total characters of post|\n",
    "|**title_word_count**|*int*|backup_data.csv|total count of words in title column|\n"
   ]
  },
  {
   "cell_type": "markdown",
   "metadata": {},
   "source": [
    "### Collecting the Data"
   ]
  },
  {
   "cell_type": "markdown",
   "metadata": {},
   "source": [
    "Running the cell block below scrapes data from reddit's front page and adds it to a dataframe. "
   ]
  },
  {
   "cell_type": "code",
   "execution_count": 4,
   "metadata": {},
   "outputs": [],
   "source": [
    "# Options needed to run selenium web driver\n",
    "ser = Service('chromedriver.exe')\n",
    "op = webdriver.ChromeOptions()\n",
    "driver = webdriver.Chrome(service=ser, options=op)\n",
    "driver.get('https://www.reddit.com/')\n",
    "\n",
    "# list of dictionaries to convert to Dataframe\n",
    "dict_list = []\n",
    "\n",
    "# scrolls through page and collects html for entire posts\n",
    "while len(dict_list) < 500:\n",
    "        \n",
    "        \n",
    "    html = driver.page_source\n",
    "    soup = BeautifulSoup(html, \"html.parser\")\n",
    "    driver.execute_script(\"window.scrollTo(0, document.body.scrollHeight);\")\n",
    "    for post in soup.findAll('div', {'data-testid': 'post-container'}):\n",
    "        try:\n",
    "            data_dict = {}\n",
    "\n",
    "            # Seperates data into dictionary entries and adds to dict list\n",
    "\n",
    "            data_dict['titles'] = post.find(True, {'class': '_eYtD2XCVieq6emjKBH3m'}).text\n",
    "            data_dict['subreddit'] = post.find(True, {'class': '_3ryJoIoycVkA88fy40qNJc'})['href']\n",
    "            data_dict['time_stamp'] = post.find(True, {'class': '_3jOxDPIQ0KaOWpzvSQo-1s'}).text\n",
    "            data_dict['comments'] = post.find(True, {'class': 'FHCV02u6Cp2zYL0fhQPsO'}).text\n",
    "            dict_list.append(data_dict)\n",
    "            time.sleep(1)\n",
    "\n",
    "        except:\n",
    "                pass\n",
    "dict_df = pd.DataFrame(dict_list)\n",
    "\n",
    "# opens Dataframe file and concatonates new data\n",
    "\n",
    "if os.path.exists('data_frame'):\n",
    "    \n",
    "    df = pd.read_csv('data_frame', index_col=0)\n",
    "\n",
    "    new_df = pd.concat([df, dict_df])\n",
    "    new_df.to_csv('data_frame')\n",
    "    \n",
    "driver.close()      \n",
    "\n",
    "    "
   ]
  },
  {
   "cell_type": "markdown",
   "metadata": {},
   "source": [
    "### Evaluating the data collected "
   ]
  },
  {
   "cell_type": "markdown",
   "metadata": {},
   "source": [
    "With reddit being a fairly popular site I decided to scrape my data roughly once every twenty four hours. The goal here was to collect around 10,000 posts. While I was expecting to have some duplicates I found that most of the data I collected was duplicated. It turns out the hot section of reddit is not replaced nearly as quickly as I originally predicted. Fortunately a colleague was able to provide some data collected via reddit's api. In the future for collecting the data live I would suggest scraping the data over a longer period. But in the end API's are almost always the easier solution. "
   ]
  },
  {
   "cell_type": "code",
   "execution_count": 2,
   "metadata": {
    "scrolled": true
   },
   "outputs": [
    {
     "data": {
      "text/plain": [
       "(8053, 4)"
      ]
     },
     "execution_count": 2,
     "metadata": {},
     "output_type": "execute_result"
    }
   ],
   "source": [
    "# reading in and checking dataframe shape\n",
    "df = pd.read_csv('data_frame',index_col=0)\n",
    "df.shape"
   ]
  },
  {
   "cell_type": "code",
   "execution_count": 3,
   "metadata": {},
   "outputs": [
    {
     "data": {
      "text/plain": [
       "6311"
      ]
     },
     "execution_count": 3,
     "metadata": {},
     "output_type": "execute_result"
    }
   ],
   "source": [
    "# checking for duplicates \n",
    "df.duplicated().sum()"
   ]
  },
  {
   "cell_type": "code",
   "execution_count": 4,
   "metadata": {},
   "outputs": [
    {
     "data": {
      "text/html": [
       "<div>\n",
       "<style scoped>\n",
       "    .dataframe tbody tr th:only-of-type {\n",
       "        vertical-align: middle;\n",
       "    }\n",
       "\n",
       "    .dataframe tbody tr th {\n",
       "        vertical-align: top;\n",
       "    }\n",
       "\n",
       "    .dataframe thead th {\n",
       "        text-align: right;\n",
       "    }\n",
       "</style>\n",
       "<table border=\"1\" class=\"dataframe\">\n",
       "  <thead>\n",
       "    <tr style=\"text-align: right;\">\n",
       "      <th></th>\n",
       "      <th>id</th>\n",
       "      <th>title</th>\n",
       "      <th>subreddit</th>\n",
       "      <th>num_comments</th>\n",
       "      <th>upvotes</th>\n",
       "      <th>created_at</th>\n",
       "      <th>time_now</th>\n",
       "      <th>time_delta</th>\n",
       "    </tr>\n",
       "  </thead>\n",
       "  <tbody>\n",
       "    <tr>\n",
       "      <th>0</th>\n",
       "      <td>rn8kvc</td>\n",
       "      <td>Probably the smoothest finesse of 2021!</td>\n",
       "      <td>BlackPeopleTwitter</td>\n",
       "      <td>311</td>\n",
       "      <td>11578</td>\n",
       "      <td>1.640303e+09</td>\n",
       "      <td>2021-12-24 02:28:09.360369</td>\n",
       "      <td>0 days 02:48:18.360372</td>\n",
       "    </tr>\n",
       "    <tr>\n",
       "      <th>1</th>\n",
       "      <td>rn6oz3</td>\n",
       "      <td>Since you guys liked my last drawing, here are...</td>\n",
       "      <td>aww</td>\n",
       "      <td>266</td>\n",
       "      <td>29482</td>\n",
       "      <td>1.640297e+09</td>\n",
       "      <td>2021-12-24 02:28:09.360377</td>\n",
       "      <td>0 days 04:18:44.360377</td>\n",
       "    </tr>\n",
       "    <tr>\n",
       "      <th>2</th>\n",
       "      <td>rn5ris</td>\n",
       "      <td>ham sniffer</td>\n",
       "      <td>comedyheaven</td>\n",
       "      <td>582</td>\n",
       "      <td>34723</td>\n",
       "      <td>1.640295e+09</td>\n",
       "      <td>2021-12-24 02:28:09.360380</td>\n",
       "      <td>0 days 05:03:01.360380</td>\n",
       "    </tr>\n",
       "    <tr>\n",
       "      <th>3</th>\n",
       "      <td>rn7ymz</td>\n",
       "      <td>Went to Walmart today, first time going anywhe...</td>\n",
       "      <td>MadeMeSmile</td>\n",
       "      <td>197</td>\n",
       "      <td>10692</td>\n",
       "      <td>1.640301e+09</td>\n",
       "      <td>2021-12-24 02:28:09.360382</td>\n",
       "      <td>0 days 03:18:59.360382</td>\n",
       "    </tr>\n",
       "    <tr>\n",
       "      <th>4</th>\n",
       "      <td>rn7ny6</td>\n",
       "      <td>Best friend ever?</td>\n",
       "      <td>rareinsults</td>\n",
       "      <td>138</td>\n",
       "      <td>13166</td>\n",
       "      <td>1.640300e+09</td>\n",
       "      <td>2021-12-24 02:28:09.360405</td>\n",
       "      <td>0 days 03:33:10.360405</td>\n",
       "    </tr>\n",
       "    <tr>\n",
       "      <th>...</th>\n",
       "      <td>...</td>\n",
       "      <td>...</td>\n",
       "      <td>...</td>\n",
       "      <td>...</td>\n",
       "      <td>...</td>\n",
       "      <td>...</td>\n",
       "      <td>...</td>\n",
       "      <td>...</td>\n",
       "    </tr>\n",
       "    <tr>\n",
       "      <th>14908</th>\n",
       "      <td>rmj1fs</td>\n",
       "      <td>Merry Xmas I'm still drinking to the stonk</td>\n",
       "      <td>Superstonk</td>\n",
       "      <td>20</td>\n",
       "      <td>105</td>\n",
       "      <td>1.640220e+09</td>\n",
       "      <td>2021-12-23 02:34:29.649245</td>\n",
       "      <td>0 days 02:00:01.649245</td>\n",
       "    </tr>\n",
       "    <tr>\n",
       "      <th>14909</th>\n",
       "      <td>rme83p</td>\n",
       "      <td>Day 10 of Running 7.41 Until MOASS</td>\n",
       "      <td>Superstonk</td>\n",
       "      <td>13</td>\n",
       "      <td>210</td>\n",
       "      <td>1.640206e+09</td>\n",
       "      <td>2021-12-23 02:34:29.649247</td>\n",
       "      <td>0 days 05:55:44.649248</td>\n",
       "    </tr>\n",
       "    <tr>\n",
       "      <th>14910</th>\n",
       "      <td>rmkbtk</td>\n",
       "      <td>I'm going to tell my grandchildren this was 2:...</td>\n",
       "      <td>Superstonk</td>\n",
       "      <td>7</td>\n",
       "      <td>75</td>\n",
       "      <td>1.640224e+09</td>\n",
       "      <td>2021-12-23 02:34:29.649250</td>\n",
       "      <td>0 days 00:52:23.649250</td>\n",
       "    </tr>\n",
       "    <tr>\n",
       "      <th>14911</th>\n",
       "      <td>rm4wvx</td>\n",
       "      <td>The Daily Stonk! December 22, 2021. To the SHF...</td>\n",
       "      <td>Superstonk</td>\n",
       "      <td>39</td>\n",
       "      <td>857</td>\n",
       "      <td>1.640178e+09</td>\n",
       "      <td>2021-12-23 02:34:29.649252</td>\n",
       "      <td>0 days 13:26:15.649252</td>\n",
       "    </tr>\n",
       "    <tr>\n",
       "      <th>14912</th>\n",
       "      <td>rmghr5</td>\n",
       "      <td>If I only had one wish.</td>\n",
       "      <td>Superstonk</td>\n",
       "      <td>4</td>\n",
       "      <td>143</td>\n",
       "      <td>1.640212e+09</td>\n",
       "      <td>2021-12-23 02:34:29.649254</td>\n",
       "      <td>0 days 04:06:52.649254</td>\n",
       "    </tr>\n",
       "  </tbody>\n",
       "</table>\n",
       "<p>14913 rows × 8 columns</p>\n",
       "</div>"
      ],
      "text/plain": [
       "           id                                              title  \\\n",
       "0      rn8kvc            Probably the smoothest finesse of 2021!   \n",
       "1      rn6oz3  Since you guys liked my last drawing, here are...   \n",
       "2      rn5ris                                        ham sniffer   \n",
       "3      rn7ymz  Went to Walmart today, first time going anywhe...   \n",
       "4      rn7ny6                                  Best friend ever?   \n",
       "...       ...                                                ...   \n",
       "14908  rmj1fs         Merry Xmas I'm still drinking to the stonk   \n",
       "14909  rme83p                 Day 10 of Running 7.41 Until MOASS   \n",
       "14910  rmkbtk  I'm going to tell my grandchildren this was 2:...   \n",
       "14911  rm4wvx  The Daily Stonk! December 22, 2021. To the SHF...   \n",
       "14912  rmghr5                            If I only had one wish.   \n",
       "\n",
       "                subreddit  num_comments  upvotes    created_at  \\\n",
       "0      BlackPeopleTwitter           311    11578  1.640303e+09   \n",
       "1                     aww           266    29482  1.640297e+09   \n",
       "2            comedyheaven           582    34723  1.640295e+09   \n",
       "3             MadeMeSmile           197    10692  1.640301e+09   \n",
       "4             rareinsults           138    13166  1.640300e+09   \n",
       "...                   ...           ...      ...           ...   \n",
       "14908          Superstonk            20      105  1.640220e+09   \n",
       "14909          Superstonk            13      210  1.640206e+09   \n",
       "14910          Superstonk             7       75  1.640224e+09   \n",
       "14911          Superstonk            39      857  1.640178e+09   \n",
       "14912          Superstonk             4      143  1.640212e+09   \n",
       "\n",
       "                         time_now              time_delta  \n",
       "0      2021-12-24 02:28:09.360369  0 days 02:48:18.360372  \n",
       "1      2021-12-24 02:28:09.360377  0 days 04:18:44.360377  \n",
       "2      2021-12-24 02:28:09.360380  0 days 05:03:01.360380  \n",
       "3      2021-12-24 02:28:09.360382  0 days 03:18:59.360382  \n",
       "4      2021-12-24 02:28:09.360405  0 days 03:33:10.360405  \n",
       "...                           ...                     ...  \n",
       "14908  2021-12-23 02:34:29.649245  0 days 02:00:01.649245  \n",
       "14909  2021-12-23 02:34:29.649247  0 days 05:55:44.649248  \n",
       "14910  2021-12-23 02:34:29.649250  0 days 00:52:23.649250  \n",
       "14911  2021-12-23 02:34:29.649252  0 days 13:26:15.649252  \n",
       "14912  2021-12-23 02:34:29.649254  0 days 04:06:52.649254  \n",
       "\n",
       "[14913 rows x 8 columns]"
      ]
     },
     "execution_count": 4,
     "metadata": {},
     "output_type": "execute_result"
    }
   ],
   "source": [
    "# reading in api data\n",
    "api_df = pd.read_csv('backup_data.csv')\n",
    "api_df"
   ]
  },
  {
   "cell_type": "code",
   "execution_count": 5,
   "metadata": {},
   "outputs": [
    {
     "data": {
      "text/plain": [
       "id              0\n",
       "title           0\n",
       "subreddit       0\n",
       "num_comments    0\n",
       "upvotes         0\n",
       "created_at      0\n",
       "time_now        0\n",
       "time_delta      0\n",
       "dtype: int64"
      ]
     },
     "execution_count": 5,
     "metadata": {},
     "output_type": "execute_result"
    }
   ],
   "source": [
    "#checking for missing data\n",
    "api_df.isnull().sum()"
   ]
  },
  {
   "cell_type": "code",
   "execution_count": 6,
   "metadata": {},
   "outputs": [
    {
     "data": {
      "text/html": [
       "<div>\n",
       "<style scoped>\n",
       "    .dataframe tbody tr th:only-of-type {\n",
       "        vertical-align: middle;\n",
       "    }\n",
       "\n",
       "    .dataframe tbody tr th {\n",
       "        vertical-align: top;\n",
       "    }\n",
       "\n",
       "    .dataframe thead th {\n",
       "        text-align: right;\n",
       "    }\n",
       "</style>\n",
       "<table border=\"1\" class=\"dataframe\">\n",
       "  <thead>\n",
       "    <tr style=\"text-align: right;\">\n",
       "      <th></th>\n",
       "      <th>num_comments</th>\n",
       "      <th>upvotes</th>\n",
       "      <th>created_at</th>\n",
       "    </tr>\n",
       "  </thead>\n",
       "  <tbody>\n",
       "    <tr>\n",
       "      <th>count</th>\n",
       "      <td>14913.000000</td>\n",
       "      <td>14913.000000</td>\n",
       "      <td>1.491300e+04</td>\n",
       "    </tr>\n",
       "    <tr>\n",
       "      <th>mean</th>\n",
       "      <td>120.268625</td>\n",
       "      <td>2244.717830</td>\n",
       "      <td>1.640237e+09</td>\n",
       "    </tr>\n",
       "    <tr>\n",
       "      <th>std</th>\n",
       "      <td>453.419705</td>\n",
       "      <td>5863.299155</td>\n",
       "      <td>4.612752e+04</td>\n",
       "    </tr>\n",
       "    <tr>\n",
       "      <th>min</th>\n",
       "      <td>0.000000</td>\n",
       "      <td>68.000000</td>\n",
       "      <td>1.640141e+09</td>\n",
       "    </tr>\n",
       "    <tr>\n",
       "      <th>25%</th>\n",
       "      <td>14.000000</td>\n",
       "      <td>330.000000</td>\n",
       "      <td>1.640195e+09</td>\n",
       "    </tr>\n",
       "    <tr>\n",
       "      <th>50%</th>\n",
       "      <td>33.000000</td>\n",
       "      <td>708.000000</td>\n",
       "      <td>1.640232e+09</td>\n",
       "    </tr>\n",
       "    <tr>\n",
       "      <th>75%</th>\n",
       "      <td>89.000000</td>\n",
       "      <td>1770.000000</td>\n",
       "      <td>1.640281e+09</td>\n",
       "    </tr>\n",
       "    <tr>\n",
       "      <th>max</th>\n",
       "      <td>18338.000000</td>\n",
       "      <td>143953.000000</td>\n",
       "      <td>1.640311e+09</td>\n",
       "    </tr>\n",
       "  </tbody>\n",
       "</table>\n",
       "</div>"
      ],
      "text/plain": [
       "       num_comments        upvotes    created_at\n",
       "count  14913.000000   14913.000000  1.491300e+04\n",
       "mean     120.268625    2244.717830  1.640237e+09\n",
       "std      453.419705    5863.299155  4.612752e+04\n",
       "min        0.000000      68.000000  1.640141e+09\n",
       "25%       14.000000     330.000000  1.640195e+09\n",
       "50%       33.000000     708.000000  1.640232e+09\n",
       "75%       89.000000    1770.000000  1.640281e+09\n",
       "max    18338.000000  143953.000000  1.640311e+09"
      ]
     },
     "execution_count": 6,
     "metadata": {},
     "output_type": "execute_result"
    }
   ],
   "source": [
    "#checking mean, median and mode\n",
    "api_df.describe()"
   ]
  },
  {
   "cell_type": "markdown",
   "metadata": {},
   "source": [
    "Since I am trying to predict higher engagement I am making a binary column based off the 75th percentile number of columns with a one being higher or equal to 89 comments and 0 if below. "
   ]
  },
  {
   "cell_type": "code",
   "execution_count": 7,
   "metadata": {
    "scrolled": true
   },
   "outputs": [
    {
     "data": {
      "text/html": [
       "<div>\n",
       "<style scoped>\n",
       "    .dataframe tbody tr th:only-of-type {\n",
       "        vertical-align: middle;\n",
       "    }\n",
       "\n",
       "    .dataframe tbody tr th {\n",
       "        vertical-align: top;\n",
       "    }\n",
       "\n",
       "    .dataframe thead th {\n",
       "        text-align: right;\n",
       "    }\n",
       "</style>\n",
       "<table border=\"1\" class=\"dataframe\">\n",
       "  <thead>\n",
       "    <tr style=\"text-align: right;\">\n",
       "      <th></th>\n",
       "      <th>id</th>\n",
       "      <th>title</th>\n",
       "      <th>subreddit</th>\n",
       "      <th>num_comments</th>\n",
       "      <th>upvotes</th>\n",
       "      <th>created_at</th>\n",
       "      <th>time_now</th>\n",
       "      <th>time_delta</th>\n",
       "      <th>high_low_count</th>\n",
       "    </tr>\n",
       "  </thead>\n",
       "  <tbody>\n",
       "    <tr>\n",
       "      <th>0</th>\n",
       "      <td>rn8kvc</td>\n",
       "      <td>Probably the smoothest finesse of 2021!</td>\n",
       "      <td>BlackPeopleTwitter</td>\n",
       "      <td>311</td>\n",
       "      <td>11578</td>\n",
       "      <td>1.640303e+09</td>\n",
       "      <td>2021-12-24 02:28:09.360369</td>\n",
       "      <td>0 days 02:48:18.360372</td>\n",
       "      <td>1</td>\n",
       "    </tr>\n",
       "    <tr>\n",
       "      <th>1</th>\n",
       "      <td>rn6oz3</td>\n",
       "      <td>Since you guys liked my last drawing, here are...</td>\n",
       "      <td>aww</td>\n",
       "      <td>266</td>\n",
       "      <td>29482</td>\n",
       "      <td>1.640297e+09</td>\n",
       "      <td>2021-12-24 02:28:09.360377</td>\n",
       "      <td>0 days 04:18:44.360377</td>\n",
       "      <td>1</td>\n",
       "    </tr>\n",
       "    <tr>\n",
       "      <th>2</th>\n",
       "      <td>rn5ris</td>\n",
       "      <td>ham sniffer</td>\n",
       "      <td>comedyheaven</td>\n",
       "      <td>582</td>\n",
       "      <td>34723</td>\n",
       "      <td>1.640295e+09</td>\n",
       "      <td>2021-12-24 02:28:09.360380</td>\n",
       "      <td>0 days 05:03:01.360380</td>\n",
       "      <td>1</td>\n",
       "    </tr>\n",
       "    <tr>\n",
       "      <th>3</th>\n",
       "      <td>rn7ymz</td>\n",
       "      <td>Went to Walmart today, first time going anywhe...</td>\n",
       "      <td>MadeMeSmile</td>\n",
       "      <td>197</td>\n",
       "      <td>10692</td>\n",
       "      <td>1.640301e+09</td>\n",
       "      <td>2021-12-24 02:28:09.360382</td>\n",
       "      <td>0 days 03:18:59.360382</td>\n",
       "      <td>1</td>\n",
       "    </tr>\n",
       "    <tr>\n",
       "      <th>4</th>\n",
       "      <td>rn7ny6</td>\n",
       "      <td>Best friend ever?</td>\n",
       "      <td>rareinsults</td>\n",
       "      <td>138</td>\n",
       "      <td>13166</td>\n",
       "      <td>1.640300e+09</td>\n",
       "      <td>2021-12-24 02:28:09.360405</td>\n",
       "      <td>0 days 03:33:10.360405</td>\n",
       "      <td>1</td>\n",
       "    </tr>\n",
       "  </tbody>\n",
       "</table>\n",
       "</div>"
      ],
      "text/plain": [
       "       id                                              title  \\\n",
       "0  rn8kvc            Probably the smoothest finesse of 2021!   \n",
       "1  rn6oz3  Since you guys liked my last drawing, here are...   \n",
       "2  rn5ris                                        ham sniffer   \n",
       "3  rn7ymz  Went to Walmart today, first time going anywhe...   \n",
       "4  rn7ny6                                  Best friend ever?   \n",
       "\n",
       "            subreddit  num_comments  upvotes    created_at  \\\n",
       "0  BlackPeopleTwitter           311    11578  1.640303e+09   \n",
       "1                 aww           266    29482  1.640297e+09   \n",
       "2        comedyheaven           582    34723  1.640295e+09   \n",
       "3         MadeMeSmile           197    10692  1.640301e+09   \n",
       "4         rareinsults           138    13166  1.640300e+09   \n",
       "\n",
       "                     time_now              time_delta  high_low_count  \n",
       "0  2021-12-24 02:28:09.360369  0 days 02:48:18.360372               1  \n",
       "1  2021-12-24 02:28:09.360377  0 days 04:18:44.360377               1  \n",
       "2  2021-12-24 02:28:09.360380  0 days 05:03:01.360380               1  \n",
       "3  2021-12-24 02:28:09.360382  0 days 03:18:59.360382               1  \n",
       "4  2021-12-24 02:28:09.360405  0 days 03:33:10.360405               1  "
      ]
     },
     "execution_count": 7,
     "metadata": {},
     "output_type": "execute_result"
    }
   ],
   "source": [
    "# creates new column for 75th percentile of num_comments\n",
    "api_df['high_low_count'] = np.where(api_df['num_comments'] >= 89, 1, 0)\n",
    "api_df.head()"
   ]
  },
  {
   "cell_type": "code",
   "execution_count": 8,
   "metadata": {},
   "outputs": [
    {
     "data": {
      "text/html": [
       "<div>\n",
       "<style scoped>\n",
       "    .dataframe tbody tr th:only-of-type {\n",
       "        vertical-align: middle;\n",
       "    }\n",
       "\n",
       "    .dataframe tbody tr th {\n",
       "        vertical-align: top;\n",
       "    }\n",
       "\n",
       "    .dataframe thead th {\n",
       "        text-align: right;\n",
       "    }\n",
       "</style>\n",
       "<table border=\"1\" class=\"dataframe\">\n",
       "  <thead>\n",
       "    <tr style=\"text-align: right;\">\n",
       "      <th></th>\n",
       "      <th>id</th>\n",
       "      <th>title</th>\n",
       "      <th>subreddit</th>\n",
       "      <th>num_comments</th>\n",
       "      <th>upvotes</th>\n",
       "      <th>created_at</th>\n",
       "      <th>time_now</th>\n",
       "      <th>time_delta</th>\n",
       "      <th>high_low_count</th>\n",
       "      <th>title_length</th>\n",
       "      <th>title_word_count</th>\n",
       "    </tr>\n",
       "  </thead>\n",
       "  <tbody>\n",
       "    <tr>\n",
       "      <th>0</th>\n",
       "      <td>rn8kvc</td>\n",
       "      <td>Probably the smoothest finesse of 2021!</td>\n",
       "      <td>BlackPeopleTwitter</td>\n",
       "      <td>311</td>\n",
       "      <td>11578</td>\n",
       "      <td>1.640303e+09</td>\n",
       "      <td>2021-12-24 02:28:09.360369</td>\n",
       "      <td>0 days 02:48:18.360372</td>\n",
       "      <td>1</td>\n",
       "      <td>39</td>\n",
       "      <td>6</td>\n",
       "    </tr>\n",
       "    <tr>\n",
       "      <th>1</th>\n",
       "      <td>rn6oz3</td>\n",
       "      <td>Since you guys liked my last drawing, here are...</td>\n",
       "      <td>aww</td>\n",
       "      <td>266</td>\n",
       "      <td>29482</td>\n",
       "      <td>1.640297e+09</td>\n",
       "      <td>2021-12-24 02:28:09.360377</td>\n",
       "      <td>0 days 04:18:44.360377</td>\n",
       "      <td>1</td>\n",
       "      <td>83</td>\n",
       "      <td>15</td>\n",
       "    </tr>\n",
       "    <tr>\n",
       "      <th>2</th>\n",
       "      <td>rn5ris</td>\n",
       "      <td>ham sniffer</td>\n",
       "      <td>comedyheaven</td>\n",
       "      <td>582</td>\n",
       "      <td>34723</td>\n",
       "      <td>1.640295e+09</td>\n",
       "      <td>2021-12-24 02:28:09.360380</td>\n",
       "      <td>0 days 05:03:01.360380</td>\n",
       "      <td>1</td>\n",
       "      <td>11</td>\n",
       "      <td>2</td>\n",
       "    </tr>\n",
       "    <tr>\n",
       "      <th>3</th>\n",
       "      <td>rn7ymz</td>\n",
       "      <td>Went to Walmart today, first time going anywhe...</td>\n",
       "      <td>MadeMeSmile</td>\n",
       "      <td>197</td>\n",
       "      <td>10692</td>\n",
       "      <td>1.640301e+09</td>\n",
       "      <td>2021-12-24 02:28:09.360382</td>\n",
       "      <td>0 days 03:18:59.360382</td>\n",
       "      <td>1</td>\n",
       "      <td>130</td>\n",
       "      <td>21</td>\n",
       "    </tr>\n",
       "    <tr>\n",
       "      <th>4</th>\n",
       "      <td>rn7ny6</td>\n",
       "      <td>Best friend ever?</td>\n",
       "      <td>rareinsults</td>\n",
       "      <td>138</td>\n",
       "      <td>13166</td>\n",
       "      <td>1.640300e+09</td>\n",
       "      <td>2021-12-24 02:28:09.360405</td>\n",
       "      <td>0 days 03:33:10.360405</td>\n",
       "      <td>1</td>\n",
       "      <td>17</td>\n",
       "      <td>3</td>\n",
       "    </tr>\n",
       "  </tbody>\n",
       "</table>\n",
       "</div>"
      ],
      "text/plain": [
       "       id                                              title  \\\n",
       "0  rn8kvc            Probably the smoothest finesse of 2021!   \n",
       "1  rn6oz3  Since you guys liked my last drawing, here are...   \n",
       "2  rn5ris                                        ham sniffer   \n",
       "3  rn7ymz  Went to Walmart today, first time going anywhe...   \n",
       "4  rn7ny6                                  Best friend ever?   \n",
       "\n",
       "            subreddit  num_comments  upvotes    created_at  \\\n",
       "0  BlackPeopleTwitter           311    11578  1.640303e+09   \n",
       "1                 aww           266    29482  1.640297e+09   \n",
       "2        comedyheaven           582    34723  1.640295e+09   \n",
       "3         MadeMeSmile           197    10692  1.640301e+09   \n",
       "4         rareinsults           138    13166  1.640300e+09   \n",
       "\n",
       "                     time_now              time_delta  high_low_count  \\\n",
       "0  2021-12-24 02:28:09.360369  0 days 02:48:18.360372               1   \n",
       "1  2021-12-24 02:28:09.360377  0 days 04:18:44.360377               1   \n",
       "2  2021-12-24 02:28:09.360380  0 days 05:03:01.360380               1   \n",
       "3  2021-12-24 02:28:09.360382  0 days 03:18:59.360382               1   \n",
       "4  2021-12-24 02:28:09.360405  0 days 03:33:10.360405               1   \n",
       "\n",
       "   title_length  title_word_count  \n",
       "0            39                 6  \n",
       "1            83                15  \n",
       "2            11                 2  \n",
       "3           130                21  \n",
       "4            17                 3  "
      ]
     },
     "execution_count": 8,
     "metadata": {},
     "output_type": "execute_result"
    }
   ],
   "source": [
    "# creates column title length to display amount of characters in title\n",
    "api_df['title_length'] = [len(letter) for letter in api_df['title']]\n",
    "# creates column title word count to display words in title \n",
    "api_df['title_word_count'] = [len(word.split()) for word in api_df['title'].tolist()]\n",
    "api_df.head()"
   ]
  },
  {
   "cell_type": "markdown",
   "metadata": {},
   "source": [
    "When it comes to title length the average seems to stay around ten words. The higher commented posts seem to have just around two more words in the title. "
   ]
  },
  {
   "cell_type": "code",
   "execution_count": 9,
   "metadata": {},
   "outputs": [
    {
     "data": {
      "text/plain": [
       "9.648561657614161"
      ]
     },
     "execution_count": 9,
     "metadata": {},
     "output_type": "execute_result"
    }
   ],
   "source": [
    "#checking average length of titles\n",
    "api_df['title_word_count'].mean()"
   ]
  },
  {
   "cell_type": "code",
   "execution_count": 10,
   "metadata": {},
   "outputs": [
    {
     "data": {
      "text/plain": [
       "11.508379888268156"
      ]
     },
     "execution_count": 10,
     "metadata": {},
     "output_type": "execute_result"
    }
   ],
   "source": [
    "#checking average length of high posts\n",
    "api_df['title_word_count'][api_df['high_low_count'] == 1].mean()"
   ]
  },
  {
   "cell_type": "code",
   "execution_count": 11,
   "metadata": {},
   "outputs": [
    {
     "data": {
      "text/plain": [
       "9.021785906401291"
      ]
     },
     "execution_count": 11,
     "metadata": {},
     "output_type": "execute_result"
    }
   ],
   "source": [
    "#checking average length of low posts\n",
    "api_df['title_word_count'][api_df['high_low_count'] == 0].mean()"
   ]
  },
  {
   "cell_type": "markdown",
   "metadata": {},
   "source": [
    "### Visualization"
   ]
  },
  {
   "cell_type": "markdown",
   "metadata": {},
   "source": [
    "Looking at the distribution of comments both high and low commented posts are skewed to the right. With our higher posts having outliers around 18 and 17 thousand, and our lower posts staying in a tight pattern and cutting off at around 90 comments.  "
   ]
  },
  {
   "cell_type": "code",
   "execution_count": 12,
   "metadata": {},
   "outputs": [],
   "source": [
    "#charting distribution of comments above and below 75th percentile\n",
    "high = api_df[api_df['high_low_count']==1]['num_comments']\n",
    "low = api_df[api_df['high_low_count']==0]['num_comments']\n"
   ]
  },
  {
   "cell_type": "code",
   "execution_count": 13,
   "metadata": {},
   "outputs": [
    {
     "data": {
      "text/plain": [
       "(0.0, 1000.0)"
      ]
     },
     "execution_count": 13,
     "metadata": {},
     "output_type": "execute_result"
    },
    {
     "data": {
      "image/png": "[encoded data removed]",
      "text/plain": [
       "<Figure size 432x288 with 1 Axes>"
      ]
     },
     "metadata": {
      "needs_background": "light"
     },
     "output_type": "display_data"
    }
   ],
   "source": [
    "# plots distribution of higher comments \n",
    "sns.histplot(high).set_title('high comment dist')\n",
    "plt.xlim(0, 1000)\n",
    "#plt.savefig('High comment dist.jpeg')"
   ]
  },
  {
   "cell_type": "code",
   "execution_count": 14,
   "metadata": {},
   "outputs": [
    {
     "data": {
      "image/png": "[encoded data removed]",
      "text/plain": [
       "<Figure size 432x288 with 1 Axes>"
      ]
     },
     "metadata": {
      "needs_background": "light"
     },
     "output_type": "display_data"
    }
   ],
   "source": [
    "# plots distribution of lower commented comments \n",
    "sns.histplot(low).set_title('Low comment dist');\n",
    "#plt.savefig('Low comment dist.jpeg')"
   ]
  },
  {
   "cell_type": "markdown",
   "metadata": {},
   "source": [
    "In the cells below I wanted to check what subreddit's were receiving the most and least comments. Askreddit appears the most in my top 10 most interacted with posts. This makes sense as it's a broad subreddit that often gets made into youtube videos which gives it an extra layer of exposure.  For my lowest interacted with posts I'm mostly seeing posts revolving around pictures and videos of people or animals. They don't seem to be receiving many comments as there is nothing to respond to. "
   ]
  },
  {
   "cell_type": "code",
   "execution_count": 15,
   "metadata": {},
   "outputs": [
    {
     "data": {
      "text/html": [
       "<div>\n",
       "<style scoped>\n",
       "    .dataframe tbody tr th:only-of-type {\n",
       "        vertical-align: middle;\n",
       "    }\n",
       "\n",
       "    .dataframe tbody tr th {\n",
       "        vertical-align: top;\n",
       "    }\n",
       "\n",
       "    .dataframe thead th {\n",
       "        text-align: right;\n",
       "    }\n",
       "</style>\n",
       "<table border=\"1\" class=\"dataframe\">\n",
       "  <thead>\n",
       "    <tr style=\"text-align: right;\">\n",
       "      <th></th>\n",
       "      <th>id</th>\n",
       "      <th>title</th>\n",
       "      <th>subreddit</th>\n",
       "      <th>num_comments</th>\n",
       "      <th>upvotes</th>\n",
       "      <th>created_at</th>\n",
       "      <th>time_now</th>\n",
       "      <th>time_delta</th>\n",
       "      <th>high_low_count</th>\n",
       "      <th>title_length</th>\n",
       "      <th>title_word_count</th>\n",
       "    </tr>\n",
       "  </thead>\n",
       "  <tbody>\n",
       "    <tr>\n",
       "      <th>7964</th>\n",
       "      <td>rm3qcl</td>\n",
       "      <td>[Serious] [NSFW] What's something that a frien...</td>\n",
       "      <td>AskReddit</td>\n",
       "      <td>18338</td>\n",
       "      <td>50069</td>\n",
       "      <td>1.640174e+09</td>\n",
       "      <td>2021-12-23 02:32:35.511768</td>\n",
       "      <td>0 days 14:36:06.511769</td>\n",
       "      <td>1</td>\n",
       "      <td>153</td>\n",
       "      <td>27</td>\n",
       "    </tr>\n",
       "    <tr>\n",
       "      <th>7708</th>\n",
       "      <td>rm9yvr</td>\n",
       "      <td>GIVEAWAY: I'm giving away Escape From Tarkov: ...</td>\n",
       "      <td>EscapefromTarkov</td>\n",
       "      <td>17118</td>\n",
       "      <td>4105</td>\n",
       "      <td>1.640194e+09</td>\n",
       "      <td>2021-12-23 02:32:31.564742</td>\n",
       "      <td>0 days 09:11:15.564742</td>\n",
       "      <td>1</td>\n",
       "      <td>115</td>\n",
       "      <td>20</td>\n",
       "    </tr>\n",
       "    <tr>\n",
       "      <th>4680</th>\n",
       "      <td>rmm1la</td>\n",
       "      <td>What is a dark secret that you have ?</td>\n",
       "      <td>AskReddit</td>\n",
       "      <td>14525</td>\n",
       "      <td>28016</td>\n",
       "      <td>1.640229e+09</td>\n",
       "      <td>2021-12-24 02:29:31.176004</td>\n",
       "      <td>0 days 23:17:34.176004</td>\n",
       "      <td>1</td>\n",
       "      <td>37</td>\n",
       "      <td>9</td>\n",
       "    </tr>\n",
       "    <tr>\n",
       "      <th>5389</th>\n",
       "      <td>rmv0hz</td>\n",
       "      <td>What was your Christmas bonus?</td>\n",
       "      <td>antiwork</td>\n",
       "      <td>12055</td>\n",
       "      <td>17858</td>\n",
       "      <td>1.640264e+09</td>\n",
       "      <td>2021-12-24 02:29:43.316600</td>\n",
       "      <td>0 days 13:39:47.316600</td>\n",
       "      <td>1</td>\n",
       "      <td>30</td>\n",
       "      <td>5</td>\n",
       "    </tr>\n",
       "    <tr>\n",
       "      <th>11285</th>\n",
       "      <td>rm057o</td>\n",
       "      <td>Hawkeye S01E06 (Season Finale) - Discussion Th...</td>\n",
       "      <td>marvelstudios</td>\n",
       "      <td>12016</td>\n",
       "      <td>6545</td>\n",
       "      <td>1.640159e+09</td>\n",
       "      <td>2021-12-23 02:33:32.421153</td>\n",
       "      <td>0 days 18:47:53.421153</td>\n",
       "      <td>1</td>\n",
       "      <td>50</td>\n",
       "      <td>7</td>\n",
       "    </tr>\n",
       "    <tr>\n",
       "      <th>118</th>\n",
       "      <td>rmx8t2</td>\n",
       "      <td>What movie do you HAVE to finish watching anyt...</td>\n",
       "      <td>AskReddit</td>\n",
       "      <td>11649</td>\n",
       "      <td>25822</td>\n",
       "      <td>1.640271e+09</td>\n",
       "      <td>2021-12-24 02:28:10.966173</td>\n",
       "      <td>0 days 11:38:19.966174</td>\n",
       "      <td>1</td>\n",
       "      <td>94</td>\n",
       "      <td>16</td>\n",
       "    </tr>\n",
       "    <tr>\n",
       "      <th>613</th>\n",
       "      <td>rn3ln1</td>\n",
       "      <td>GIVEAWAY: I'm giving away a $100 Blizzard Bala...</td>\n",
       "      <td>wow</td>\n",
       "      <td>9640</td>\n",
       "      <td>976</td>\n",
       "      <td>1.640289e+09</td>\n",
       "      <td>2021-12-24 02:28:20.577428</td>\n",
       "      <td>0 days 06:45:03.577428</td>\n",
       "      <td>1</td>\n",
       "      <td>89</td>\n",
       "      <td>16</td>\n",
       "    </tr>\n",
       "    <tr>\n",
       "      <th>8583</th>\n",
       "      <td>rm3n14</td>\n",
       "      <td>What's something that is unnecessarily expensive?</td>\n",
       "      <td>AskReddit</td>\n",
       "      <td>9109</td>\n",
       "      <td>13758</td>\n",
       "      <td>1.640174e+09</td>\n",
       "      <td>2021-12-23 02:32:46.069069</td>\n",
       "      <td>0 days 14:42:15.069069</td>\n",
       "      <td>1</td>\n",
       "      <td>49</td>\n",
       "      <td>6</td>\n",
       "    </tr>\n",
       "    <tr>\n",
       "      <th>7565</th>\n",
       "      <td>rmb4qh</td>\n",
       "      <td>names? shes a girl</td>\n",
       "      <td>teenagers</td>\n",
       "      <td>6907</td>\n",
       "      <td>40109</td>\n",
       "      <td>1.640197e+09</td>\n",
       "      <td>2021-12-23 02:32:27.489934</td>\n",
       "      <td>0 days 08:18:34.489934</td>\n",
       "      <td>1</td>\n",
       "      <td>18</td>\n",
       "      <td>4</td>\n",
       "    </tr>\n",
       "    <tr>\n",
       "      <th>9415</th>\n",
       "      <td>rm43yz</td>\n",
       "      <td>Statue in my home town made of 100,000 knives ...</td>\n",
       "      <td>pics</td>\n",
       "      <td>6760</td>\n",
       "      <td>66218</td>\n",
       "      <td>1.640176e+09</td>\n",
       "      <td>2021-12-23 02:33:01.043198</td>\n",
       "      <td>0 days 14:13:01.043198</td>\n",
       "      <td>1</td>\n",
       "      <td>69</td>\n",
       "      <td>13</td>\n",
       "    </tr>\n",
       "  </tbody>\n",
       "</table>\n",
       "</div>"
      ],
      "text/plain": [
       "           id                                              title  \\\n",
       "7964   rm3qcl  [Serious] [NSFW] What's something that a frien...   \n",
       "7708   rm9yvr  GIVEAWAY: I'm giving away Escape From Tarkov: ...   \n",
       "4680   rmm1la              What is a dark secret that you have ?   \n",
       "5389   rmv0hz                     What was your Christmas bonus?   \n",
       "11285  rm057o  Hawkeye S01E06 (Season Finale) - Discussion Th...   \n",
       "118    rmx8t2  What movie do you HAVE to finish watching anyt...   \n",
       "613    rn3ln1  GIVEAWAY: I'm giving away a $100 Blizzard Bala...   \n",
       "8583   rm3n14  What's something that is unnecessarily expensive?   \n",
       "7565   rmb4qh                                 names? shes a girl   \n",
       "9415   rm43yz  Statue in my home town made of 100,000 knives ...   \n",
       "\n",
       "              subreddit  num_comments  upvotes    created_at  \\\n",
       "7964          AskReddit         18338    50069  1.640174e+09   \n",
       "7708   EscapefromTarkov         17118     4105  1.640194e+09   \n",
       "4680          AskReddit         14525    28016  1.640229e+09   \n",
       "5389           antiwork         12055    17858  1.640264e+09   \n",
       "11285     marvelstudios         12016     6545  1.640159e+09   \n",
       "118           AskReddit         11649    25822  1.640271e+09   \n",
       "613                 wow          9640      976  1.640289e+09   \n",
       "8583          AskReddit          9109    13758  1.640174e+09   \n",
       "7565          teenagers          6907    40109  1.640197e+09   \n",
       "9415               pics          6760    66218  1.640176e+09   \n",
       "\n",
       "                         time_now              time_delta  high_low_count  \\\n",
       "7964   2021-12-23 02:32:35.511768  0 days 14:36:06.511769               1   \n",
       "7708   2021-12-23 02:32:31.564742  0 days 09:11:15.564742               1   \n",
       "4680   2021-12-24 02:29:31.176004  0 days 23:17:34.176004               1   \n",
       "5389   2021-12-24 02:29:43.316600  0 days 13:39:47.316600               1   \n",
       "11285  2021-12-23 02:33:32.421153  0 days 18:47:53.421153               1   \n",
       "118    2021-12-24 02:28:10.966173  0 days 11:38:19.966174               1   \n",
       "613    2021-12-24 02:28:20.577428  0 days 06:45:03.577428               1   \n",
       "8583   2021-12-23 02:32:46.069069  0 days 14:42:15.069069               1   \n",
       "7565   2021-12-23 02:32:27.489934  0 days 08:18:34.489934               1   \n",
       "9415   2021-12-23 02:33:01.043198  0 days 14:13:01.043198               1   \n",
       "\n",
       "       title_length  title_word_count  \n",
       "7964            153                27  \n",
       "7708            115                20  \n",
       "4680             37                 9  \n",
       "5389             30                 5  \n",
       "11285            50                 7  \n",
       "118              94                16  \n",
       "613              89                16  \n",
       "8583             49                 6  \n",
       "7565             18                 4  \n",
       "9415             69                13  "
      ]
     },
     "execution_count": 15,
     "metadata": {},
     "output_type": "execute_result"
    }
   ],
   "source": [
    "#checking top 10 most commented posts\n",
    "api_df.nlargest(10,\"num_comments\")"
   ]
  },
  {
   "cell_type": "code",
   "execution_count": 16,
   "metadata": {},
   "outputs": [
    {
     "data": {
      "text/html": [
       "<div>\n",
       "<style scoped>\n",
       "    .dataframe tbody tr th:only-of-type {\n",
       "        vertical-align: middle;\n",
       "    }\n",
       "\n",
       "    .dataframe tbody tr th {\n",
       "        vertical-align: top;\n",
       "    }\n",
       "\n",
       "    .dataframe thead th {\n",
       "        text-align: right;\n",
       "    }\n",
       "</style>\n",
       "<table border=\"1\" class=\"dataframe\">\n",
       "  <thead>\n",
       "    <tr style=\"text-align: right;\">\n",
       "      <th></th>\n",
       "      <th>id</th>\n",
       "      <th>title</th>\n",
       "      <th>subreddit</th>\n",
       "      <th>num_comments</th>\n",
       "      <th>upvotes</th>\n",
       "      <th>created_at</th>\n",
       "      <th>time_now</th>\n",
       "      <th>time_delta</th>\n",
       "      <th>high_low_count</th>\n",
       "      <th>title_length</th>\n",
       "      <th>title_word_count</th>\n",
       "    </tr>\n",
       "  </thead>\n",
       "  <tbody>\n",
       "    <tr>\n",
       "      <th>1110</th>\n",
       "      <td>rn5fiz</td>\n",
       "      <td>This is an amazing idea!</td>\n",
       "      <td>UnexpectedlyWholesome</td>\n",
       "      <td>0</td>\n",
       "      <td>435</td>\n",
       "      <td>1.640294e+09</td>\n",
       "      <td>2021-12-24 02:28:29.181435</td>\n",
       "      <td>0 days 05:18:39.181435</td>\n",
       "      <td>0</td>\n",
       "      <td>24</td>\n",
       "      <td>5</td>\n",
       "    </tr>\n",
       "    <tr>\n",
       "      <th>1783</th>\n",
       "      <td>rn1e7v</td>\n",
       "      <td>Tiny blop!</td>\n",
       "      <td>blop</td>\n",
       "      <td>0</td>\n",
       "      <td>493</td>\n",
       "      <td>1.640283e+09</td>\n",
       "      <td>2021-12-24 02:28:39.751822</td>\n",
       "      <td>0 days 08:26:56.751822</td>\n",
       "      <td>0</td>\n",
       "      <td>10</td>\n",
       "      <td>2</td>\n",
       "    </tr>\n",
       "    <tr>\n",
       "      <th>2247</th>\n",
       "      <td>rn6eow</td>\n",
       "      <td>Zero x Kallen</td>\n",
       "      <td>CodeGeass</td>\n",
       "      <td>0</td>\n",
       "      <td>192</td>\n",
       "      <td>1.640297e+09</td>\n",
       "      <td>2021-12-24 02:28:48.240654</td>\n",
       "      <td>0 days 04:32:41.240654</td>\n",
       "      <td>0</td>\n",
       "      <td>13</td>\n",
       "      <td>3</td>\n",
       "    </tr>\n",
       "    <tr>\n",
       "      <th>2460</th>\n",
       "      <td>rn34sj</td>\n",
       "      <td>‘Can You Check The Back For 500 Million More O...</td>\n",
       "      <td>TheOnion</td>\n",
       "      <td>0</td>\n",
       "      <td>273</td>\n",
       "      <td>1.640287e+09</td>\n",
       "      <td>2021-12-24 02:28:51.737682</td>\n",
       "      <td>0 days 07:07:16.737682</td>\n",
       "      <td>0</td>\n",
       "      <td>113</td>\n",
       "      <td>22</td>\n",
       "    </tr>\n",
       "    <tr>\n",
       "      <th>2695</th>\n",
       "      <td>rn6ule</td>\n",
       "      <td>Installing the latest version on the old computer</td>\n",
       "      <td>C_AT</td>\n",
       "      <td>0</td>\n",
       "      <td>148</td>\n",
       "      <td>1.640298e+09</td>\n",
       "      <td>2021-12-24 02:28:55.346665</td>\n",
       "      <td>0 days 04:12:21.346665</td>\n",
       "      <td>0</td>\n",
       "      <td>49</td>\n",
       "      <td>8</td>\n",
       "    </tr>\n",
       "    <tr>\n",
       "      <th>2705</th>\n",
       "      <td>rmyidq</td>\n",
       "      <td>Brooke Monk</td>\n",
       "      <td>BrookeMonk</td>\n",
       "      <td>0</td>\n",
       "      <td>477</td>\n",
       "      <td>1.640275e+09</td>\n",
       "      <td>2021-12-24 02:28:57.105236</td>\n",
       "      <td>0 days 10:38:35.105236</td>\n",
       "      <td>0</td>\n",
       "      <td>11</td>\n",
       "      <td>2</td>\n",
       "    </tr>\n",
       "    <tr>\n",
       "      <th>2996</th>\n",
       "      <td>rmyh5i</td>\n",
       "      <td>Nap times are the best times</td>\n",
       "      <td>BabyCorgis</td>\n",
       "      <td>0</td>\n",
       "      <td>433</td>\n",
       "      <td>1.640275e+09</td>\n",
       "      <td>2021-12-24 02:29:00.320806</td>\n",
       "      <td>0 days 10:40:18.320807</td>\n",
       "      <td>0</td>\n",
       "      <td>28</td>\n",
       "      <td>6</td>\n",
       "    </tr>\n",
       "    <tr>\n",
       "      <th>3087</th>\n",
       "      <td>rn4wlj</td>\n",
       "      <td>I turned my boyfriend's void with eyes in to a...</td>\n",
       "      <td>minimalcatart</td>\n",
       "      <td>0</td>\n",
       "      <td>166</td>\n",
       "      <td>1.640292e+09</td>\n",
       "      <td>2021-12-24 02:29:02.151213</td>\n",
       "      <td>0 days 05:43:34.151213</td>\n",
       "      <td>0</td>\n",
       "      <td>62</td>\n",
       "      <td>13</td>\n",
       "    </tr>\n",
       "    <tr>\n",
       "      <th>3107</th>\n",
       "      <td>rn7elj</td>\n",
       "      <td>211114 - Pretty Tzuyu</td>\n",
       "      <td>tzuyu</td>\n",
       "      <td>0</td>\n",
       "      <td>116</td>\n",
       "      <td>1.640299e+09</td>\n",
       "      <td>2021-12-24 02:29:03.790149</td>\n",
       "      <td>0 days 03:46:37.790149</td>\n",
       "      <td>0</td>\n",
       "      <td>21</td>\n",
       "      <td>4</td>\n",
       "    </tr>\n",
       "    <tr>\n",
       "      <th>3123</th>\n",
       "      <td>rn7yti</td>\n",
       "      <td>He looks like a mini grandpa! Adorable.!</td>\n",
       "      <td>HeckThisIsWholesome</td>\n",
       "      <td>0</td>\n",
       "      <td>106</td>\n",
       "      <td>1.640301e+09</td>\n",
       "      <td>2021-12-24 02:29:03.790185</td>\n",
       "      <td>0 days 03:19:37.790186</td>\n",
       "      <td>0</td>\n",
       "      <td>40</td>\n",
       "      <td>7</td>\n",
       "    </tr>\n",
       "  </tbody>\n",
       "</table>\n",
       "</div>"
      ],
      "text/plain": [
       "          id                                              title  \\\n",
       "1110  rn5fiz                           This is an amazing idea!   \n",
       "1783  rn1e7v                                         Tiny blop!   \n",
       "2247  rn6eow                                      Zero x Kallen   \n",
       "2460  rn34sj  ‘Can You Check The Back For 500 Million More O...   \n",
       "2695  rn6ule  Installing the latest version on the old computer   \n",
       "2705  rmyidq                                        Brooke Monk   \n",
       "2996  rmyh5i                       Nap times are the best times   \n",
       "3087  rn4wlj  I turned my boyfriend's void with eyes in to a...   \n",
       "3107  rn7elj                              211114 - Pretty Tzuyu   \n",
       "3123  rn7yti           He looks like a mini grandpa! Adorable.!   \n",
       "\n",
       "                  subreddit  num_comments  upvotes    created_at  \\\n",
       "1110  UnexpectedlyWholesome             0      435  1.640294e+09   \n",
       "1783                   blop             0      493  1.640283e+09   \n",
       "2247              CodeGeass             0      192  1.640297e+09   \n",
       "2460               TheOnion             0      273  1.640287e+09   \n",
       "2695                   C_AT             0      148  1.640298e+09   \n",
       "2705             BrookeMonk             0      477  1.640275e+09   \n",
       "2996             BabyCorgis             0      433  1.640275e+09   \n",
       "3087          minimalcatart             0      166  1.640292e+09   \n",
       "3107                  tzuyu             0      116  1.640299e+09   \n",
       "3123    HeckThisIsWholesome             0      106  1.640301e+09   \n",
       "\n",
       "                        time_now              time_delta  high_low_count  \\\n",
       "1110  2021-12-24 02:28:29.181435  0 days 05:18:39.181435               0   \n",
       "1783  2021-12-24 02:28:39.751822  0 days 08:26:56.751822               0   \n",
       "2247  2021-12-24 02:28:48.240654  0 days 04:32:41.240654               0   \n",
       "2460  2021-12-24 02:28:51.737682  0 days 07:07:16.737682               0   \n",
       "2695  2021-12-24 02:28:55.346665  0 days 04:12:21.346665               0   \n",
       "2705  2021-12-24 02:28:57.105236  0 days 10:38:35.105236               0   \n",
       "2996  2021-12-24 02:29:00.320806  0 days 10:40:18.320807               0   \n",
       "3087  2021-12-24 02:29:02.151213  0 days 05:43:34.151213               0   \n",
       "3107  2021-12-24 02:29:03.790149  0 days 03:46:37.790149               0   \n",
       "3123  2021-12-24 02:29:03.790185  0 days 03:19:37.790186               0   \n",
       "\n",
       "      title_length  title_word_count  \n",
       "1110            24                 5  \n",
       "1783            10                 2  \n",
       "2247            13                 3  \n",
       "2460           113                22  \n",
       "2695            49                 8  \n",
       "2705            11                 2  \n",
       "2996            28                 6  \n",
       "3087            62                13  \n",
       "3107            21                 4  \n",
       "3123            40                 7  "
      ]
     },
     "execution_count": 16,
     "metadata": {},
     "output_type": "execute_result"
    }
   ],
   "source": [
    "#checking least commented posts\n",
    "api_df.nsmallest(10, \"num_comments\")"
   ]
  },
  {
   "cell_type": "code",
   "execution_count": 17,
   "metadata": {},
   "outputs": [],
   "source": [
    "#replaces apostrophes \n",
    "api_df['title'] = api_df['title'].apply(lambda x: x.strip().replace(\"'\", ''))\n",
    "api_df['subreddit'] = api_df['subreddit'].apply(lambda x: x.strip().replace(\"'\", ''))"
   ]
  },
  {
   "cell_type": "markdown",
   "metadata": {},
   "source": [
    "Now it's time to count vectorize our titles and look for the most popular words. We can also take words we think may be popular and engineer some new features to see if they help our models. For this analysis I will be removing stop words. I've also removed apostrophes from the title column as they will cause auxilary verbs to be counted as seperate words. "
   ]
  },
  {
   "cell_type": "code",
   "execution_count": 18,
   "metadata": {},
   "outputs": [],
   "source": [
    "# count vectorizing title column\n",
    "title_count = api_df['title']\n",
    "\n",
    "cvec = CountVectorizer(stop_words='english')\n",
    "cvec.fit(title_count)\n",
    "word_count = cvec.transform(title_count)\n",
    "count_df = pd.DataFrame(word_count.todense(), columns=cvec.get_feature_names())\n",
    "\n",
    "#concatonates vectorized dataframe with api_df\n",
    "count_df_master = pd.concat([count_df, api_df], axis=1)"
   ]
  },
  {
   "cell_type": "code",
   "execution_count": 19,
   "metadata": {},
   "outputs": [],
   "source": [
    "#columns to be dropped while doing eda and charting \n",
    "drop_col = ['title', 'subreddit', 'num_comments', 'upvotes',\n",
    "            'created_at', 'time_now', 'time_delta',\n",
    "            'high_low_count', 'title_length', 'title_word_count', 'id']\n",
    "\n",
    "# creates variable for top 20 most used words in 75th percentile\n",
    "high_chart = (count_df_master[count_df_master['high_low_count'] == 1]\n",
    "              .drop(columns=drop_col)\n",
    "              .sum()\n",
    "              .sort_values(ascending=False)\n",
    "              .head(20))\n",
    "\n",
    "# creates variable for top 20 most used words below 75th percentile\n",
    "low_chart = (count_df_master[count_df_master['high_low_count'] == 0]\n",
    "            .drop(columns=drop_col)\n",
    "            .sum()\n",
    "             .sort_values(ascending=False)\n",
    "            .head(20))"
   ]
  },
  {
   "cell_type": "code",
   "execution_count": 20,
   "metadata": {},
   "outputs": [
    {
     "data": {
      "image/png": "[encoded data removed]",
      "text/plain": [
       "<Figure size 432x288 with 1 Axes>"
      ]
     },
     "metadata": {
      "needs_background": "light"
     },
     "output_type": "display_data"
    }
   ],
   "source": [
    "# charts popular words in 75th percentile\n",
    "high_chart.plot(kind='barh', title=\"Top twenty words in 75th percentile\", color='red');\n",
    "\n",
    "#plt.savefig('High Top twenty words')"
   ]
  },
  {
   "cell_type": "code",
   "execution_count": 21,
   "metadata": {},
   "outputs": [
    {
     "data": {
      "image/png": "[encoded data removed]",
      "text/plain": [
       "<Figure size 432x288 with 1 Axes>"
      ]
     },
     "metadata": {
      "needs_background": "light"
     },
     "output_type": "display_data"
    }
   ],
   "source": [
    "#charts words below 75th percentile \n",
    "low_chart.plot(kind='barh', title=\"Top twenty words below 75th percentile\");\n",
    "\n",
    "#plt.savefig('Low Top twenty words')"
   ]
  },
  {
   "cell_type": "markdown",
   "metadata": {},
   "source": [
    "From the charts posted above we can see that that both our high and low posts share a decent amount of words with 2 out of the top three words matching. As most of this data was collected towards the hollidays we need to remember that the word Christmas is most likely only going to be this important for this time of year. As for the words just and like we could infer that people are most likely going to be posting about things that they like, or things that may have just happened and spurred a moment of excitement. "
   ]
  },
  {
   "cell_type": "markdown",
   "metadata": {
    "focus": false,
    "id": "04563b69-f7b6-466f-9d65-fc62c9ddee6a"
   },
   "source": [
    "### Creating base models"
   ]
  },
  {
   "cell_type": "markdown",
   "metadata": {
    "collapsed": true,
    "focus": false,
    "id": "c20d2498-151c-44c3-a453-3a333c79a0ac"
   },
   "source": [
    "Now that we have count vectorized the titles column and we have our binary column that dictates whether or not a post is above or below the 75th percentile we can start building some models. I'm going to start off with logistic regression and a random forest classifier. Our base model accuracy is roughly 75% so we need to make a model that can beat that."
   ]
  },
  {
   "cell_type": "code",
   "execution_count": 22,
   "metadata": {},
   "outputs": [
    {
     "data": {
      "text/plain": [
       "0.747938040635687"
      ]
     },
     "execution_count": 22,
     "metadata": {},
     "output_type": "execute_result"
    }
   ],
   "source": [
    "# baseline model\n",
    "1 - api_df['high_low_count'].mean()"
   ]
  },
  {
   "cell_type": "code",
   "execution_count": 23,
   "metadata": {
    "focus": false,
    "id": "87a17d3d-b7f4-4747-9f75-f9af1d18a174"
   },
   "outputs": [],
   "source": [
    "\n",
    "\n",
    "# columns to drop for our models \n",
    "drop_col_m = ['title', 'subreddit',\n",
    "             'time_now', 'time_delta',\n",
    "            'high_low_count', 'id']\n",
    "\n",
    "# setting up X and y variables\n",
    "X = count_df_master.drop(columns= drop_col_m)\n",
    "y = api_df['high_low_count']\n",
    "\n",
    "\n",
    "\n",
    "# Instantiating logistic regression\n",
    "logreg = LogisticRegression(solver='liblinear')\n",
    "\n",
    "\n",
    "\n",
    "\n",
    "# setting cross_val_score\n",
    "scores = cross_val_score(logreg,\n",
    "                         X,\n",
    "                         y,\n",
    "                         cv=KFold(n_splits=5,\n",
    "                                  shuffle=True,\n",
    "                                  random_state=73))\n",
    "\n"
   ]
  },
  {
   "cell_type": "code",
   "execution_count": 24,
   "metadata": {},
   "outputs": [
    {
     "name": "stdout",
     "output_type": "stream",
     "text": [
      "LogReg score 0.75 +- 0.01\n"
     ]
    }
   ],
   "source": [
    "# shows accuracy score\n",
    "print(\"LogReg score\", round(scores.mean(), 2), '+-', round(2 * scores.std(), 2))"
   ]
  },
  {
   "cell_type": "code",
   "execution_count": 25,
   "metadata": {},
   "outputs": [],
   "source": [
    "# Instantiate our Random Forest model \n",
    "rf = RandomForestClassifier(class_weight='balanced', \n",
    "                            n_estimators=100,            \n",
    "                            n_jobs=-1)\n",
    "\n",
    "\n",
    "\n",
    "\n",
    "\n",
    "# setting cross_val_score\n",
    "scores = cross_val_score(rf,\n",
    "                         X,\n",
    "                         y,\n",
    "                         cv=KFold(n_splits=5,\n",
    "                                  shuffle=True,\n",
    "                                  random_state=73))\n",
    "\n"
   ]
  },
  {
   "cell_type": "code",
   "execution_count": 26,
   "metadata": {},
   "outputs": [
    {
     "name": "stdout",
     "output_type": "stream",
     "text": [
      "Random Forest score 1.0 +- 0.0\n"
     ]
    }
   ],
   "source": [
    "#shows accuracy score\n",
    "print(\"Random Forest score\", round(scores.mean(), 2), '+-', round(2 * scores.std(), 2))"
   ]
  },
  {
   "cell_type": "markdown",
   "metadata": {},
   "source": [
    "By the scores above we can see that Logistic Regression is just ever so slightly better than our null model. While our tree model is showing 100 percent accuracy which is a sign of overfitting.  Next to improve our models we can start removing some features to attempt to remove some of the noise. Let's see how we do if we just count vectorize the individual subreddit's themselves. "
   ]
  },
  {
   "cell_type": "code",
   "execution_count": 27,
   "metadata": {},
   "outputs": [],
   "source": [
    "# count vectorizing title column\n",
    "subreddit_count = api_df['subreddit']\n",
    "\n",
    "cvec = CountVectorizer(stop_words='english')\n",
    "cvec.fit(subreddit_count)\n",
    "word_count = cvec.transform(subreddit_count)\n",
    "subreddit_count_df = pd.DataFrame(word_count.todense(), columns=cvec.get_feature_names())\n",
    "\n",
    "#concatonates vectorized dataframe with api_df\n",
    "count_df_subreddit = pd.concat([subreddit_count_df, api_df], axis=1)"
   ]
  },
  {
   "cell_type": "code",
   "execution_count": 28,
   "metadata": {},
   "outputs": [
    {
     "name": "stdout",
     "output_type": "stream",
     "text": [
      "LogReg score 0.75 +- 0.01\n",
      "Random Forest score 1.0 +- 0.0\n"
     ]
    }
   ],
   "source": [
    "# Creating X variable for subreddit's\n",
    "X = count_df_subreddit.drop(columns=drop_col_m)\n",
    "\n",
    "\n",
    "\n",
    "# score and kfold                 \n",
    "scores = cross_val_score(logreg,\n",
    "                         X,\n",
    "                         y,\n",
    "                         cv=KFold(n_splits=5,\n",
    "                                  shuffle=True,\n",
    "                                  random_state=73))\n",
    "# prints accuracy score\n",
    "print(\"LogReg score\", round(scores.mean(), 2), '+-', round(2 * scores.std(), 2))\n",
    "\n",
    "\n",
    "# score and kfold\n",
    "scores = cross_val_score(rf,\n",
    "                         X,\n",
    "                         y,\n",
    "                         cv=KFold(n_splits=5,\n",
    "                                  shuffle=True,\n",
    "                                  random_state=73))\n",
    "# prints accuracy score \n",
    "print(\"Random Forest score\", round(scores.mean(), 2), '+-', round(2 * scores.std(), 2))\n",
    "\n"
   ]
  },
  {
   "cell_type": "code",
   "execution_count": 29,
   "metadata": {},
   "outputs": [
    {
     "data": {
      "text/plain": [
       "(14913, 19505)"
      ]
     },
     "execution_count": 29,
     "metadata": {},
     "output_type": "execute_result"
    }
   ],
   "source": [
    "count_df_master.shape"
   ]
  },
  {
   "cell_type": "code",
   "execution_count": 30,
   "metadata": {},
   "outputs": [
    {
     "data": {
      "text/plain": [
       "(14913, 2856)"
      ]
     },
     "execution_count": 30,
     "metadata": {},
     "output_type": "execute_result"
    }
   ],
   "source": [
    "count_df_subreddit.shape"
   ]
  },
  {
   "cell_type": "markdown",
   "metadata": {},
   "source": [
    "Now that we've count vectorized our subreddit column we should check in on our most popular subreddit's. It looks like our top three subreddit's are memes, politics, and antiwork. I'm very surprised to not see AskReddit on either list below. "
   ]
  },
  {
   "cell_type": "code",
   "execution_count": 31,
   "metadata": {},
   "outputs": [
    {
     "data": {
      "text/plain": [
       "memes                    64\n",
       "politics                 56\n",
       "antiwork                 55\n",
       "politicalcompassmemes    51\n",
       "superstonk               48\n",
       "cringetopia              44\n",
       "nba                      39\n",
       "teenagers                35\n",
       "facepalm                 33\n",
       "formula1                 32\n",
       "hermancainaward          31\n",
       "halo                     31\n",
       "nextfuckinglevel         29\n",
       "holup                    29\n",
       "interestingasfuck        29\n",
       "fantasyfootball          27\n",
       "publicfreakout           26\n",
       "conspiracy               26\n",
       "news                     26\n",
       "unexpected               25\n",
       "dtype: int64"
      ]
     },
     "execution_count": 31,
     "metadata": {},
     "output_type": "execute_result"
    }
   ],
   "source": [
    "# shows list of subreddit's in higher commented\n",
    "(count_df_subreddit[count_df_subreddit['high_low_count'] == 1]\n",
    "              .drop(columns=drop_col)\n",
    "              .sum()\n",
    "              .sort_values(ascending=False)\n",
    "              .head(20))"
   ]
  },
  {
   "cell_type": "code",
   "execution_count": 32,
   "metadata": {},
   "outputs": [
    {
     "data": {
      "text/plain": [
       "superstonk            380\n",
       "memes                 302\n",
       "hololive              103\n",
       "whitepeopletwitter    100\n",
       "dankmemes              95\n",
       "holup                  88\n",
       "tumblr                 86\n",
       "mademesmile            83\n",
       "antiwork               81\n",
       "aww                    79\n",
       "curatedtumblr          74\n",
       "interestingasfuck      70\n",
       "greentext              67\n",
       "dndmemes               58\n",
       "genshin_impact         54\n",
       "nextfuckinglevel       52\n",
       "gme                    50\n",
       "cursedcomments         49\n",
       "formuladank            48\n",
       "whenthe                47\n",
       "dtype: int64"
      ]
     },
     "execution_count": 32,
     "metadata": {},
     "output_type": "execute_result"
    }
   ],
   "source": [
    "# shows top subreddit's in lower commented\n",
    "(count_df_subreddit[count_df_subreddit['high_low_count'] == 0]\n",
    "              .drop(columns=drop_col)\n",
    "              .sum()\n",
    "              .sort_values(ascending=False)\n",
    "              .head(20))"
   ]
  },
  {
   "cell_type": "markdown",
   "metadata": {},
   "source": [
    "Even by eliminating 16,649 features we are getting similar results to our first two models. With logistic regression staying at around 75 percent accuracy. These results make sense as random forests are very prone to overfitting, and logistic regression has a default penalty of \"l1\" for LASSO. Lasso simply put tries to remove redundant features. Given more time I would like to locate fewer and more meaningful features to hopefully combat the overfitting on my random forest models. "
   ]
  },
  {
   "cell_type": "code",
   "execution_count": 33,
   "metadata": {},
   "outputs": [
    {
     "data": {
      "text/plain": [
       "(14913, 19505)"
      ]
     },
     "execution_count": 33,
     "metadata": {},
     "output_type": "execute_result"
    }
   ],
   "source": [
    "count_df_master.shape"
   ]
  },
  {
   "cell_type": "code",
   "execution_count": 34,
   "metadata": {},
   "outputs": [
    {
     "data": {
      "text/plain": [
       "(14913, 11)"
      ]
     },
     "execution_count": 34,
     "metadata": {},
     "output_type": "execute_result"
    }
   ],
   "source": [
    "api_df.shape"
   ]
  },
  {
   "cell_type": "markdown",
   "metadata": {},
   "source": [
    "# Conclusion and Recommendations "
   ]
  },
  {
   "cell_type": "markdown",
   "metadata": {},
   "source": [
    "To answer our problem statement I would say based off of my EDA we would want to select either AskReddit or memes as our subreddit to launch our post.  The post itself based off of the popular words we collected could be something like “people of (blank) what is something you just can’t live without” for example. In the future to further improve upon this project there are a multitude of angles I would like to explore. We could perform sentinment analysis on the titles column to see if titles with more positive or negative words receive more interaction. We could also engineer more topic centered features such as binary columns for celebrities or pets.  "
   ]
  },
  {
   "cell_type": "markdown",
   "metadata": {},
   "source": [
    "# Executive Summary"
   ]
  },
  {
   "cell_type": "markdown",
   "metadata": {},
   "source": [
    "In today's society internet presence and knowledge is key. Business's need to be taking advantage of all the free information and advertisement the internet provides. So let's have a look at how this project has accomplished this. We first started off by finding the limitations of webscraping and the convenience of using API's. This let's us know that in the future if we have a timed data collection goal to meet we should be pulling from the data already available using an API if possible. We then evaluated the number of comments that are in our top 10 commented posts and discovered that AskReddit and the word GIVEAWAY gave us significantly  higher comments than other subreddit's. This gives us a good idea that AskReddit, and the word GIVEAWAY do have the potential to produce some high impact results. We now know that our top three most used words are \"just\", \"like\", and \"people\" in our more popular posts. Lastly through modeling we have found that we can have 75 percent confidence in writing a popular post just by using the subreddit's themselves. \n"
   ]
  }
 ],
 "metadata": {
  "anaconda-cloud": {},
  "kernelspec": {
   "display_name": "Python 3",
   "language": "python",
   "name": "python3"
  },
  "language_info": {
   "codemirror_mode": {
    "name": "ipython",
    "version": 3
   },
   "file_extension": ".py",
   "mimetype": "text/x-python",
   "name": "python",
   "nbconvert_exporter": "python",
   "pygments_lexer": "ipython3",
   "version": "3.8.8"
  },
  "varInspector": {
   "cols": {
    "lenName": 16,
    "lenType": 16,
    "lenVar": 40
   },
   "kernels_config": {
    "python": {
     "delete_cmd_postfix": "",
     "delete_cmd_prefix": "del ",
     "library": "var_list.py",
     "varRefreshCmd": "print(var_dic_list())"
    },
    "r": {
     "delete_cmd_postfix": ") ",
     "delete_cmd_prefix": "rm(",
     "library": "var_list.r",
     "varRefreshCmd": "cat(var_dic_list()) "
    }
   },
   "types_to_exclude": [
    "module",
    "function",
    "builtin_function_or_method",
    "instance",
    "_Feature"
   ],
   "window_display": false
  }
 },
 "nbformat": 4,
 "nbformat_minor": 1
}
